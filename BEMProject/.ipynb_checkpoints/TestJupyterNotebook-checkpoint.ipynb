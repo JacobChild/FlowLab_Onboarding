{
 "cells": [
  {
   "cell_type": "code",
   "execution_count": 1,
   "metadata": {},
   "outputs": [
    {
     "data": {
      "text/plain": [
       "1×3 Matrix{Int64}:\n",
       " 4  5  6"
      ]
     },
     "execution_count": 1,
     "metadata": {},
     "output_type": "execute_result"
    }
   ],
   "source": [
    "#Test Jupyter Notebook\n",
    "#Do defined variables carry over?\n",
    "A = [1 2 3]\n",
    "B = [4 5 6]"
   ]
  },
  {
   "cell_type": "code",
   "execution_count": null,
   "metadata": {},
   "outputs": [],
   "source": []
  },
  {
   "cell_type": "code",
   "execution_count": 2,
   "metadata": {},
   "outputs": [
    {
     "ename": "LoadError",
     "evalue": "UndefKeywordError: keyword argument dims not assigned",
     "output_type": "error",
     "traceback": [
      "UndefKeywordError: keyword argument dims not assigned",
      "",
      "Stacktrace:",
      " [1] cat(::Matrix{Int64}, ::Vararg{Matrix{Int64}})",
      "   @ Base .\\abstractarray.jl:1861",
      " [2] top-level scope",
      "   @ In[2]:2",
      " [3] eval",
      "   @ .\\boot.jl:373 [inlined]",
      " [4] include_string(mapexpr::typeof(REPL.softscope), mod::Module, code::String, filename::String)",
      "   @ Base .\\loading.jl:1196"
     ]
    }
   ],
   "source": [
    "#Test variables\n",
    "C = cat(A,B)"
   ]
  }
 ],
 "metadata": {
  "kernelspec": {
   "display_name": "Julia 1.7.1",
   "language": "julia",
   "name": "julia-1.7"
  },
  "language_info": {
   "file_extension": ".jl",
   "mimetype": "application/julia",
   "name": "julia",
   "version": "1.7.1"
  }
 },
 "nbformat": 4,
 "nbformat_minor": 2
}
